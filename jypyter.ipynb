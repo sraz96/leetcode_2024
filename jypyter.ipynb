{
 "cells": [
  {
   "cell_type": "code",
   "execution_count": null,
   "metadata": {},
   "outputs": [],
   "source": [
    "import pandas as pd"
   ]
  },
  {
   "cell_type": "code",
   "execution_count": null,
   "metadata": {},
   "outputs": [
    {
     "name": "stdout",
     "output_type": "stream",
     "text": [
      "Original linked list \n",
      "10->20->30->40->None\n",
      "Reversed Linked list\n",
      "40->30->20->10->None\n"
     ]
    }
   ],
   "source": [
    "class node:\n",
    "    def __init__(self, value):\n",
    "        self.value = value\n",
    "        self.next = None\n",
    "\n",
    "class Linked_List:\n",
    "    def __init__(self):\n",
    "        self.head = None\n",
    "\n",
    "    def append(self, Value):\n",
    "        new_node = node(Value)\n",
    "        if not self.head:\n",
    "            self.head = new_node\n",
    "            return\n",
    "        last_node = self.head\n",
    "        while last_node.next:\n",
    "            last_node = last_node.next\n",
    "        last_node.next = new_node\n",
    "\n",
    "    def print_list(self):\n",
    "        current = self.head\n",
    "        while current:\n",
    "            print(current.value,end=\"->\")\n",
    "            current = current.next\n",
    "        print(\"None\")\n",
    "\n",
    "    def reverse(self):\n",
    "        prev = None\n",
    "        current = self.head\n",
    "        while current:\n",
    "            new_node = current.next\n",
    "            current.next = prev\n",
    "            prev = current\n",
    "            current = new_node\n",
    "        self.head = prev\n",
    "\n",
    "ll=Linked_List()\n",
    "ll.append(10)\n",
    "ll.append(20)\n",
    "ll.append(30)\n",
    "ll.append(40)\n",
    "\n",
    "print(\"Original linked list \")\n",
    "ll.print_list()\n",
    "\n",
    "ll.reverse()\n",
    "print(\"Reversed Linked list\")\n",
    "\n",
    "ll.print_list()\n",
    "    \n",
    "\n"
   ]
  },
  {
   "cell_type": "code",
   "execution_count": null,
   "metadata": {},
   "outputs": [
    {
     "name": "stdout",
     "output_type": "stream",
     "text": [
      "10\n",
      "<class 'decimal.Decimal'>\n"
     ]
    }
   ],
   "source": [
    "import decimal\n",
    "integer = 10\n",
    "print(decimal.Decimal(integer))\n",
    "print(type(decimal.Decimal(integer)))"
   ]
  },
  {
   "cell_type": "code",
   "execution_count": null,
   "metadata": {},
   "outputs": [
    {
     "name": "stdout",
     "output_type": "stream",
     "text": [
      "12345\n",
      "<class 'decimal.Decimal'>\n"
     ]
    }
   ],
   "source": [
    "string = '12345'\n",
    "print(decimal.Decimal(string))\n",
    "print(type(decimal.Decimal(string)))"
   ]
  },
  {
   "cell_type": "code",
   "execution_count": null,
   "metadata": {},
   "outputs": [
    {
     "data": {
      "text/plain": [
       "'87543211'"
      ]
     },
     "execution_count": 32,
     "metadata": {},
     "output_type": "execute_result"
    }
   ],
   "source": [
    "string = '11234578'\n",
    "string[::-1]"
   ]
  },
  {
   "cell_type": "code",
   "execution_count": null,
   "metadata": {},
   "outputs": [
    {
     "data": {
      "text/plain": [
       "'14'"
      ]
     },
     "execution_count": 33,
     "metadata": {},
     "output_type": "execute_result"
    }
   ],
   "source": [
    "string[0::4]"
   ]
  },
  {
   "cell_type": "code",
   "execution_count": null,
   "metadata": {},
   "outputs": [
    {
     "data": {
      "text/plain": [
       "4"
      ]
     },
     "execution_count": 34,
     "metadata": {},
     "output_type": "execute_result"
    }
   ],
   "source": [
    "vowel = ['a','e','i','o','u']\n",
    "word = \"python programming\"\n",
    "count = 0 \n",
    "for charac in word:\n",
    "    if charac in vowel:\n",
    "        count +=1\n",
    "\n",
    "count"
   ]
  },
  {
   "cell_type": "code",
   "execution_count": null,
   "metadata": {},
   "outputs": [
    {
     "data": {
      "text/plain": [
       "2"
      ]
     },
     "execution_count": 35,
     "metadata": {},
     "output_type": "execute_result"
    }
   ],
   "source": [
    "word = \"Python Programming\"\n",
    "count = 0\n",
    "for letter in word:\n",
    "    if letter == \"n\":\n",
    "        count += 1\n",
    "count"
   ]
  },
  {
   "cell_type": "code",
   "execution_count": null,
   "metadata": {},
   "outputs": [
    {
     "name": "stdout",
     "output_type": "stream",
     "text": [
      "0,1,1,2,3,5,8\n"
     ]
    }
   ],
   "source": [
    "fib = [0,1]\n",
    "for i in range(5):\n",
    "    fib.append(fib[-1]+fib[-2])\n",
    "\n",
    "print(','.join(str(e) for e in fib))"
   ]
  },
  {
   "cell_type": "code",
   "execution_count": null,
   "metadata": {},
   "outputs": [
    {
     "data": {
      "text/plain": [
       "[0, 1, 1, 2, 3, 5, 8]"
      ]
     },
     "execution_count": 37,
     "metadata": {},
     "output_type": "execute_result"
    }
   ],
   "source": [
    "fib = [0,1]\n",
    "for i in range(5):\n",
    "    fib.append(fib[-1]+fib[-2])\n",
    "\n",
    "fib"
   ]
  },
  {
   "cell_type": "code",
   "execution_count": null,
   "metadata": {},
   "outputs": [
    {
     "name": "stdout",
     "output_type": "stream",
     "text": [
      "89\n",
      "0\n"
     ]
    }
   ],
   "source": [
    "numberlist = [45,33,89,67,0,12]\n",
    "\n",
    "maxNum = numberlist[0]\n",
    "minNum = numberlist[0]\n",
    "for num in numberlist:\n",
    "    if maxNum < num:\n",
    "        maxNum = num\n",
    "    if minNum > num:\n",
    "        minNum = num\n",
    "\n",
    "print(maxNum)\n",
    "print(minNum)"
   ]
  },
  {
   "cell_type": "code",
   "execution_count": null,
   "metadata": {},
   "outputs": [
    {
     "data": {
      "text/plain": [
       "21"
      ]
     },
     "execution_count": 41,
     "metadata": {},
     "output_type": "execute_result"
    }
   ],
   "source": [
    "list_1 = [34,56,89,21,34,54,65]\n",
    "mid_element = int(len(list_1)/2)\n",
    "\n",
    "list_1[mid_element]"
   ]
  },
  {
   "cell_type": "code",
   "execution_count": null,
   "metadata": {},
   "outputs": [
    {
     "name": "stdout",
     "output_type": "stream",
     "text": [
      "ABHISHEK\n"
     ]
    },
    {
     "data": {
      "text/plain": [
       "str"
      ]
     },
     "execution_count": 43,
     "metadata": {},
     "output_type": "execute_result"
    }
   ],
   "source": [
    "list_2 = ['A','B','H','I','S','H','E','K']\n",
    "string_3 = ''.join(list_2)\n",
    "print(string_3)\n",
    "\n",
    "type(string_3)"
   ]
  },
  {
   "cell_type": "code",
   "execution_count": null,
   "metadata": {},
   "outputs": [
    {
     "data": {
      "text/plain": [
       "[44, 68, 6, 38, 107, 112, 63]"
      ]
     },
     "execution_count": 1,
     "metadata": {},
     "output_type": "execute_result"
    }
   ],
   "source": [
    "lst_1 = [12,34,5,6,53,47,56]\n",
    "lst_2 = [32,34,1,32,54,65,7]\n",
    "\n",
    "empty_lst = []\n",
    "for i in range(0,len(lst_1)):\n",
    "    empty_lst.append(lst_1[i] + lst_2[i])\n",
    "\n",
    "empty_lst"
   ]
  },
  {
   "cell_type": "code",
   "execution_count": null,
   "metadata": {},
   "outputs": [
    {
     "name": "stdout",
     "output_type": "stream",
     "text": [
      "Strings are not equal\n"
     ]
    }
   ],
   "source": [
    "str_1 = \"Narashimha\"\n",
    "str_2 = \"Kanamuri\"\n",
    "\n",
    "str1 = list(str_1.upper())\n",
    "str2 = list(str_2.upper())\n",
    "str1.sort(),str2.sort()\n",
    "\n",
    "if(str1 == str2):\n",
    "    print(\"Strings are equal\")\n",
    "else:\n",
    "    print(\"Strings are not equal\")"
   ]
  },
  {
   "cell_type": "code",
   "execution_count": null,
   "metadata": {},
   "outputs": [
    {
     "name": "stdout",
     "output_type": "stream",
     "text": [
      "palindrome\n"
     ]
    }
   ],
   "source": [
    "str1 = \"Kanak\".lower()\n",
    "str2 = \"kanak\".lower()\n",
    "\n",
    "if(str1 == str2[::-1]):\n",
    "    print(\"palindrome\")\n",
    "else:\n",
    "    print(\"not palindrome\")"
   ]
  },
  {
   "cell_type": "code",
   "execution_count": null,
   "metadata": {},
   "outputs": [
    {
     "name": "stdout",
     "output_type": "stream",
     "text": [
      "7\n"
     ]
    }
   ],
   "source": [
    "string_1 = \"P  Ython  Pr og  ramming\"\n",
    "print(string_1.count(' '))"
   ]
  },
  {
   "cell_type": "code",
   "execution_count": null,
   "metadata": {},
   "outputs": [
    {
     "name": "stdout",
     "output_type": "stream",
     "text": [
      "1\n",
      "6\n",
      "4\n"
     ]
    }
   ],
   "source": [
    "import re\n",
    "\n",
    "name = \"P Yh  ton 1\"\n",
    "digitCount = re.sub(\"[^0-9]\" , \"\" ,name)\n",
    "letterCount = re.sub(\"[^a-zA-Z]\", \"\" ,name)\n",
    "spaceCount = re.findall(\"[ \\n ]\",name)\n",
    "\n",
    "print(len(digitCount))\n",
    "print(len(letterCount))\n",
    "print(len(spaceCount))\n"
   ]
  },
  {
   "cell_type": "code",
   "execution_count": null,
   "metadata": {},
   "outputs": [
    {
     "name": "stdout",
     "output_type": "stream",
     "text": [
      "12\n"
     ]
    },
    {
     "name": "stderr",
     "output_type": "stream",
     "text": [
      "<>:3: SyntaxWarning: invalid escape sequence '\\w'\n",
      "<>:3: SyntaxWarning: invalid escape sequence '\\w'\n",
      "C:\\Users\\Lenovo\\AppData\\Local\\Temp\\ipykernel_15696\\1465698000.py:3: SyntaxWarning: invalid escape sequence '\\w'\n",
      "  count = re.sub(\"[\\w]+\", '',spach)\n"
     ]
    }
   ],
   "source": [
    "spach = \"?()@#$%!&~*^\"\n",
    "\n",
    "count = re.sub(\"[\\w]+\", '',spach)\n",
    "print(len(count))"
   ]
  },
  {
   "cell_type": "code",
   "execution_count": null,
   "metadata": {},
   "outputs": [
    {
     "name": "stdout",
     "output_type": "stream",
     "text": [
      "AAJA\n"
     ]
    }
   ],
   "source": [
    "import re\n",
    "\n",
    "string_7 = \" A A J A \"\n",
    "spaces = re.compile(r'\\s+')\n",
    "result = re.sub(spaces, '',string_7)\n",
    "print(result)"
   ]
  },
  {
   "cell_type": "code",
   "execution_count": null,
   "metadata": {},
   "outputs": [
    {
     "name": "stdout",
     "output_type": "stream",
     "text": [
      "    *    \n",
      "   ***   \n",
      "  *****  \n",
      " ******* \n",
      "*********\n"
     ]
    }
   ],
   "source": [
    "floors = 5\n",
    "h = 2*floors - 1\n",
    "\n",
    "for i in range(1, 2*floors,2 ):\n",
    "    print('{:^{}}' .format('*'*i , h))"
   ]
  },
  {
   "cell_type": "code",
   "execution_count": null,
   "metadata": {},
   "outputs": [
    {
     "data": {
      "text/plain": [
       "['tear', 'Joy', 'open', 'Enjoy']"
      ]
     },
     "execution_count": 28,
     "metadata": {},
     "output_type": "execute_result"
    }
   ],
   "source": [
    "from random import shuffle\n",
    "\n",
    "lst = [\"Enjoy\",\"Joy\",\"tear\",\"open\"]\n",
    "shuffle(lst)\n",
    "lst\n"
   ]
  },
  {
   "cell_type": "code",
   "execution_count": null,
   "metadata": {},
   "outputs": [
    {
     "name": "stdout",
     "output_type": "stream",
     "text": [
      "Pyth n\n"
     ]
    }
   ],
   "source": [
    "str = \"Python\"\n",
    "ch = 'o'\n",
    "print(str.replace(ch,' '))"
   ]
  },
  {
   "cell_type": "code",
   "execution_count": null,
   "metadata": {},
   "outputs": [
    {
     "name": "stdout",
     "output_type": "stream",
     "text": [
      "Not Anagrams\n"
     ]
    }
   ],
   "source": [
    "string1 = 'elegant man'\n",
    "string2 = 'mantagenlet'\n",
    "\n",
    "if(sorted(string1)==sorted(string2)):\n",
    "    print('Anagrams')\n",
    "else:\n",
    "    print('Not Anagrams')"
   ]
  },
  {
   "cell_type": "code",
   "execution_count": null,
   "metadata": {},
   "outputs": [
    {
     "name": "stdout",
     "output_type": "stream",
     "text": [
      "Digit\n"
     ]
    }
   ],
   "source": [
    "ch = '9'\n",
    "if(ch>='0' and ch<='9'):\n",
    "    print(\"Digit\")\n",
    "else:\n",
    "    print(\"Not a digit\")"
   ]
  },
  {
   "cell_type": "code",
   "execution_count": null,
   "metadata": {},
   "outputs": [
    {
     "data": {
      "text/plain": [
       "' BEHEEHHEHCEHH'"
      ]
     },
     "execution_count": 37,
     "metadata": {},
     "output_type": "execute_result"
    }
   ],
   "source": [
    "str = 'B E H C H'\n",
    "result = ' '\n",
    "ch = 'EH'\n",
    "\n",
    "for i in str:\n",
    "    if i == ' ':\n",
    "        i = ch\n",
    "    result += i\n",
    "result"
   ]
  },
  {
   "cell_type": "code",
   "execution_count": null,
   "metadata": {},
   "outputs": [
    {
     "name": "stdout",
     "output_type": "stream",
     "text": [
      "Original List:\n",
      "1 1 2 3 3 4 4 5 \n",
      "List after removing duplicates:\n",
      "1 2 3 4 5 \n"
     ]
    }
   ],
   "source": [
    "class Node:\n",
    "    def __init__(self, data):\n",
    "        self.data = data\n",
    "        self.next = None\n",
    "\n",
    "class LinkedList:\n",
    "    def __init__(self):\n",
    "        self.head = None\n",
    "\n",
    "    def append(self, data):\n",
    "        if not self.head:\n",
    "            self.head = Node(data)\n",
    "        else:\n",
    "            current = self.head\n",
    "            while current.next:\n",
    "                current = current.next\n",
    "            current.next = Node(data)\n",
    "\n",
    "    def remove_duplicates(self):\n",
    "        current = self.head\n",
    "        while current and current.next:\n",
    "            if current.data == current.next.data:\n",
    "                current.next = current.next.next\n",
    "            else:\n",
    "                current = current.next\n",
    "\n",
    "    def print_list(self):\n",
    "        current = self.head\n",
    "        while current:\n",
    "            print(current.data, end=\" \")\n",
    "            current = current.next\n",
    "        print()\n",
    "\n",
    "# Create a linked list\n",
    "ll = LinkedList()\n",
    "ll.append(1)\n",
    "ll.append(1)\n",
    "ll.append(2)\n",
    "ll.append(3)\n",
    "ll.append(3)\n",
    "ll.append(4)\n",
    "ll.append(4)\n",
    "ll.append(5)\n",
    "\n",
    "print(\"Original List:\")\n",
    "ll.print_list()\n",
    "\n",
    "ll.remove_duplicates()\n",
    "\n",
    "print(\"List after removing duplicates:\")\n",
    "ll.print_list()"
   ]
  },
  {
   "cell_type": "code",
   "execution_count": 2,
   "metadata": {},
   "outputs": [],
   "source": [
    "a = [10,21,32,43,4,67]\n",
    "a[2::] = [1]"
   ]
  },
  {
   "cell_type": "code",
   "execution_count": 3,
   "metadata": {},
   "outputs": [
    {
     "data": {
      "text/plain": [
       "[10, 21, 1]"
      ]
     },
     "execution_count": 3,
     "metadata": {},
     "output_type": "execute_result"
    }
   ],
   "source": [
    "a"
   ]
  },
  {
   "cell_type": "code",
   "execution_count": 4,
   "metadata": {},
   "outputs": [
    {
     "name": "stdout",
     "output_type": "stream",
     "text": [
      "hello|\n"
     ]
    }
   ],
   "source": [
    "print(\"hello|\")"
   ]
  },
  {
   "cell_type": "code",
   "execution_count": null,
   "metadata": {},
   "outputs": [],
   "source": [
    "mtu = [1,2,3]\n",
    "imu = \"test\"\n",
    "mtu.append(100)"
   ]
  },
  {
   "cell_type": "code",
   "execution_count": null,
   "metadata": {},
   "outputs": [
    {
     "data": {
      "text/plain": [
       "[1, 2, 3, 100]"
      ]
     },
     "execution_count": 4,
     "metadata": {},
     "output_type": "execute_result"
    }
   ],
   "source": [
    "mtu"
   ]
  },
  {
   "cell_type": "code",
   "execution_count": null,
   "metadata": {},
   "outputs": [],
   "source": []
  }
 ],
 "metadata": {
  "kernelspec": {
   "display_name": "Python 3",
   "language": "python",
   "name": "python3"
  },
  "language_info": {
   "codemirror_mode": {
    "name": "ipython",
    "version": 3
   },
   "file_extension": ".py",
   "mimetype": "text/x-python",
   "name": "python",
   "nbconvert_exporter": "python",
   "pygments_lexer": "ipython3",
   "version": "3.12.2"
  }
 },
 "nbformat": 4,
 "nbformat_minor": 2
}
